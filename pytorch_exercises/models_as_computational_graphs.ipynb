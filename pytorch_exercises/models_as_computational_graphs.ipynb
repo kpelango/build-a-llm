{
 "cells": [
  {
   "cell_type": "code",
   "execution_count": 3,
   "id": "6ecbe231-629b-45d6-968b-861079c9cc52",
   "metadata": {},
   "outputs": [],
   "source": [
    "import torch"
   ]
  },
  {
   "cell_type": "code",
   "execution_count": 5,
   "id": "f51fe1a8-36d3-4782-be89-cc2bb2f278af",
   "metadata": {},
   "outputs": [],
   "source": [
    "import torch.nn.functional as F\n",
    "\n",
    "y = torch.tensor([1.0])\n",
    "x1 = torch.tensor([1.1])\n",
    "w1 = torch.tensor([1.2])\n",
    "b = torch.tensor([0.0])\n",
    "\n",
    "z1 = x1 * w1 + b\n",
    "a = torch.sigmoid(z1)\n",
    "loss = F.binary_cross_entropy(a, y)"
   ]
  },
  {
   "cell_type": "code",
   "execution_count": 6,
   "id": "9555dd8f-1b04-48cc-8230-29f9ca53bd00",
   "metadata": {},
   "outputs": [
    {
     "name": "stdout",
     "output_type": "stream",
     "text": [
      "tensor([0.7892]) tensor([1.]) tensor(0.2368)\n"
     ]
    }
   ],
   "source": [
    "print(a, y, loss)"
   ]
  },
  {
   "cell_type": "code",
   "execution_count": 13,
   "id": "4d37f10e-c130-4331-8822-8c9b30456930",
   "metadata": {},
   "outputs": [],
   "source": [
    "import torch.nn.functional as F\n",
    "from torch.autograd import grad\n",
    "\n",
    "y = torch.tensor([1.0])\n",
    "x1 = torch.tensor([1.1])\n",
    "w1 = torch.tensor([2.2], requires_grad=True)\n",
    "b = torch.tensor([0.0], requires_grad=True)\n",
    "\n",
    "z1 = x1 * w1 + b\n",
    "a = torch.sigmoid(z1)\n",
    "loss = F.binary_cross_entropy(a, y)\n",
    "\n",
    "grad_L_w1 =  grad(loss, w1, retain_graph = True)\n",
    "grad_L_b =  grad(loss, b, retain_graph = True)"
   ]
  },
  {
   "cell_type": "code",
   "execution_count": 14,
   "id": "c7b6cfe2-e145-403e-bdda-607ecb3bcd55",
   "metadata": {},
   "outputs": [
    {
     "name": "stdout",
     "output_type": "stream",
     "text": [
      "(tensor([-0.0898]),)\n",
      "(tensor([-0.0817]),)\n"
     ]
    }
   ],
   "source": [
    "print(grad_L_w1)\n",
    "print(grad_L_b)"
   ]
  },
  {
   "cell_type": "code",
   "execution_count": 15,
   "id": "0be865cd-6fae-4a16-ad22-5833e6b6f634",
   "metadata": {},
   "outputs": [
    {
     "name": "stdout",
     "output_type": "stream",
     "text": [
      "tensor([-0.0898])\n",
      "tensor([-0.0817])\n"
     ]
    }
   ],
   "source": [
    "loss.backward()\n",
    "print(w1.grad)\n",
    "print(b.grad)"
   ]
  }
 ],
 "metadata": {
  "kernelspec": {
   "display_name": "Python 3 (ipykernel)",
   "language": "python",
   "name": "python3"
  },
  "language_info": {
   "codemirror_mode": {
    "name": "ipython",
    "version": 3
   },
   "file_extension": ".py",
   "mimetype": "text/x-python",
   "name": "python",
   "nbconvert_exporter": "python",
   "pygments_lexer": "ipython3",
   "version": "3.10.15"
  }
 },
 "nbformat": 4,
 "nbformat_minor": 5
}
