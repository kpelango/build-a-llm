{
 "cells": [
  {
   "cell_type": "code",
   "execution_count": 3,
   "id": "9be06c68-92a8-46d3-b1e9-2d1d3535c200",
   "metadata": {},
   "outputs": [],
   "source": [
    "import torch"
   ]
  },
  {
   "cell_type": "code",
   "execution_count": 13,
   "id": "74c3ce62-f669-4f4a-9492-fce080fc318b",
   "metadata": {},
   "outputs": [],
   "source": [
    "tensor0d = torch.tensor(1)\n",
    "tensor1d = torch.tensor([1,2])\n",
    "tensor2d = torch.tensor([[1,2,3],[4,5,6]])\n",
    "tensor3d = torch.tensor([[[1,2],[3,4]],[[5,6],[7,8]]])"
   ]
  },
  {
   "cell_type": "code",
   "execution_count": 14,
   "id": "57dd8486-2a92-44ed-90c8-56d6730c8b76",
   "metadata": {},
   "outputs": [
    {
     "name": "stdout",
     "output_type": "stream",
     "text": [
      "tensor([[1, 2, 3],\n",
      "        [4, 5, 6]])\n"
     ]
    }
   ],
   "source": [
    "print(tensor2d)"
   ]
  },
  {
   "cell_type": "code",
   "execution_count": 30,
   "id": "4b639495-fa0c-44fd-99ce-43b8fc597001",
   "metadata": {},
   "outputs": [
    {
     "name": "stdout",
     "output_type": "stream",
     "text": [
      "torch.Size([2, 3])\n",
      "tensor([[1, 4],\n",
      "        [2, 5],\n",
      "        [3, 6]])\n",
      "torch.Size([3, 2])\n",
      "tensor([[1],\n",
      "        [2],\n",
      "        [3],\n",
      "        [4],\n",
      "        [5],\n",
      "        [6]])\n",
      "tensor([[1, 2, 3, 4, 5, 6]])\n",
      "tensor([[1, 2],\n",
      "        [3, 4],\n",
      "        [5, 6]])\n",
      "tensor([[1, 2, 3],\n",
      "        [4, 5, 6]])\n"
     ]
    }
   ],
   "source": [
    "print(tensor2d.shape)\n",
    "print(tensor2d.T)\n",
    "print(tensor2d.T.shape)\n",
    "print(tensor2d.reshape([6,1]))\n",
    "print(tensor2d.reshape([1,6]))\n",
    "print(tensor2d.view([3,2]))\n",
    "print(tensor2d.view([2,3]))"
   ]
  },
  {
   "cell_type": "code",
   "execution_count": 31,
   "id": "b08aceae-9945-4d3f-abc1-55bcbbb4e320",
   "metadata": {},
   "outputs": [
    {
     "name": "stdout",
     "output_type": "stream",
     "text": [
      "torch.Size([2, 2, 2])\n",
      "tensor([[[1, 5],\n",
      "         [3, 7]],\n",
      "\n",
      "        [[2, 6],\n",
      "         [4, 8]]])\n"
     ]
    }
   ],
   "source": [
    "print(tensor3d.shape)\n",
    "print(tensor3d.T)"
   ]
  },
  {
   "cell_type": "code",
   "execution_count": 33,
   "id": "c0cd0081-c764-4a44-b4a2-5f8cb8b73e55",
   "metadata": {},
   "outputs": [
    {
     "name": "stdout",
     "output_type": "stream",
     "text": [
      "tensor([[14, 32],\n",
      "        [32, 77]])\n",
      "tensor([[17, 22, 27],\n",
      "        [22, 29, 36],\n",
      "        [27, 36, 45]])\n"
     ]
    }
   ],
   "source": [
    "print(tensor2d.matmul(tensor2d.T))\n",
    "print(tensor2d.T.matmul(tensor2d))"
   ]
  },
  {
   "cell_type": "code",
   "execution_count": 36,
   "id": "9e1070b1-ced8-4eb5-86de-0c206efbd091",
   "metadata": {},
   "outputs": [
    {
     "ename": "RuntimeError",
     "evalue": "empty_strided not supported on quantized tensors yet see https://github.com/pytorch/pytorch/issues/74540",
     "output_type": "error",
     "traceback": [
      "\u001b[0;31m---------------------------------------------------------------------------\u001b[0m",
      "\u001b[0;31mRuntimeError\u001b[0m                              Traceback (most recent call last)",
      "Cell \u001b[0;32mIn[36], line 1\u001b[0m\n\u001b[0;32m----> 1\u001b[0m \u001b[38;5;28mprint\u001b[39m(\u001b[43mtensor2d\u001b[49m\u001b[38;5;241;43m.\u001b[39;49m\u001b[43mto\u001b[49m\u001b[43m(\u001b[49m\u001b[43mtorch\u001b[49m\u001b[38;5;241;43m.\u001b[39;49m\u001b[43mqint32\u001b[49m\u001b[43m)\u001b[49m)\n",
      "\u001b[0;31mRuntimeError\u001b[0m: empty_strided not supported on quantized tensors yet see https://github.com/pytorch/pytorch/issues/74540"
     ]
    }
   ],
   "source": [
    "print(tensor2d.to(torch.qint32))"
   ]
  }
 ],
 "metadata": {
  "kernelspec": {
   "display_name": "Python 3 (ipykernel)",
   "language": "python",
   "name": "python3"
  },
  "language_info": {
   "codemirror_mode": {
    "name": "ipython",
    "version": 3
   },
   "file_extension": ".py",
   "mimetype": "text/x-python",
   "name": "python",
   "nbconvert_exporter": "python",
   "pygments_lexer": "ipython3",
   "version": "3.10.15"
  }
 },
 "nbformat": 4,
 "nbformat_minor": 5
}
